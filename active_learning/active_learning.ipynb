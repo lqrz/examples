{
 "cells": [
  {
   "cell_type": "markdown",
   "metadata": {},
   "source": [
    "# Active learning\n",
    "\n",
    "_From: [\"Real world active learning - Machine learning\"](https://youtu.be/NQrkfLbX4tQ)_\n",
    "\n",
    "A recap of some active learning techniques:\n",
    "1. _Bias towards uncertanty_: certain models directly output the prediction uncertainty. I should gather those which I'm least certain about.\n",
    "2. _Bias towards ensemble disagreement_: when using ensemble methods, I should focus on those samples that present the highest disagrement.\n",
    "3. _Bias towards labels most likely to influence my classifier_: if I have a similarity measure between samples, I could pick those that are more disimilar (i.e. they have features that I haven't seen before).\n",
    "\n",
    "If I apply the previous strategies, it is likely that I'm gonna end up having outliers (very strange samples). I should be aware of that and try to _bias towards denser regions of training data_.\n",
    "\n",
    "Authors in [1] analysed the most common active learning strategies (at the time '09):\n",
    "![Active learning strategies](/home/lquiroz/Desktop/guyon.png)\n",
    "They mostly use \"Uncertainty sampling\".\n",
    "\n",
    "[1]: http://www.jmlr.org/proceedings/papers/v16/guyon11a/guyon11a.pdf"
   ]
  },
  {
   "cell_type": "markdown",
   "metadata": {},
   "source": [
    "## References\n",
    "[1](http://www.jmlr.org/proceedings/papers/v16/guyon11a/guyon11a.pdf)"
   ]
  },
  {
   "cell_type": "code",
   "execution_count": null,
   "metadata": {
    "collapsed": true
   },
   "outputs": [],
   "source": []
  }
 ],
 "metadata": {
  "kernelspec": {
   "display_name": "Python 3",
   "language": "python",
   "name": "python3"
  },
  "language_info": {
   "codemirror_mode": {
    "name": "ipython",
    "version": 3
   },
   "file_extension": ".py",
   "mimetype": "text/x-python",
   "name": "python",
   "nbconvert_exporter": "python",
   "pygments_lexer": "ipython3",
   "version": "3.5.2"
  }
 },
 "nbformat": 4,
 "nbformat_minor": 2
}
