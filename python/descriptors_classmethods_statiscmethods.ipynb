{
 "cells": [
  {
   "cell_type": "markdown",
   "metadata": {},
   "source": [
    "# Descriptors\n",
    "\n",
    "Descriptor is any object that is an attribute of a class (the descriptor class instances will be attributes of the class! --important to think about this; see image below--), that implements one of the: `__get__`,` __set__`, `__delete__` methods.\n",
    "\n",
    "This is the mechanism that allows functions to work as methods.\n",
    "\n",
    "<img src=\"descriptors.png\">"
   ]
  },
  {
   "cell_type": "markdown",
   "metadata": {},
   "source": [
    "## classmethods and staticmethods\n",
    "\n",
    "These are also descriptors.\n",
    "Before, Python only had instancemethods (methods which are called passing the actual instance as an argument).\n",
    "\n",
    "### classmethods\n",
    "Classmethods take the class as an argument.\n",
    "I can use them to manipulate class attributes.\n",
    "I can call classmethods using the class or an instance of the class (both will work).\n",
    "These are also useful when using the cls argument to return an instance of the class on same previously manipulated data; and this behaviour will be inherited, with no change needed, by all subclasses of the parent class. An example of this is the `fromkeys()` method of the dict class:"
   ]
  },
  {
   "cell_type": "code",
   "execution_count": 3,
   "metadata": {
    "collapsed": true
   },
   "outputs": [],
   "source": [
    "class FancyDict(dict):\n",
    "    \n",
    "    @classmethod\n",
    "    def fromkeys(cls, keys, init_value=None):\n",
    "#         first i do some useful stuff with the arguments\n",
    "        data = [(keys, init_value) for key in keys]\n",
    "        \n",
    "#         then i return an instance of the class using that data\n",
    "        return cls(data)\n",
    "\n",
    "# anything that inherits from FancyDict will now have this behaviour\n",
    "# this example is silly because dict already has this method implemented"
   ]
  },
  {
   "cell_type": "markdown",
   "metadata": {},
   "source": [
    "The previous example can also be seen as a way to define an alternative constructor to a class.\n",
    "By convention these methods begin with the keywork __from__. Another example could be:"
   ]
  },
  {
   "cell_type": "code",
   "execution_count": 5,
   "metadata": {
    "collapsed": true
   },
   "outputs": [],
   "source": [
    "class Employee(object):\n",
    "    \n",
    "#     normal constructor\n",
    "    def __init__(self, first_name, last_name, salary):\n",
    "        self.first_name = first_name\n",
    "        self.last_name = last_name\n",
    "        self.salary = salary\n",
    "    \n",
    "#     alternative constructor using a classmethod\n",
    "    @classmethod\n",
    "    def from_string(cls, employee_str):\n",
    "        fist_name, last_name, salary = employee_str.split(',')\n",
    "        return cls(first_name, last_name, salary)"
   ]
  },
  {
   "cell_type": "markdown",
   "metadata": {},
   "source": [
    "### staticmethods\n",
    "Staticmethods do no take any magic arguments.\n",
    "They are not very much useful; we will just use them when we want to create a method that does not depend on neither an instance nor the class."
   ]
  }
 ],
 "metadata": {
  "kernelspec": {
   "display_name": "Python 3",
   "language": "python",
   "name": "python3"
  },
  "language_info": {
   "codemirror_mode": {
    "name": "ipython",
    "version": 3
   },
   "file_extension": ".py",
   "mimetype": "text/x-python",
   "name": "python",
   "nbconvert_exporter": "python",
   "pygments_lexer": "ipython3",
   "version": "3.5.2"
  }
 },
 "nbformat": 4,
 "nbformat_minor": 2
}
