{
 "cells": [
  {
   "cell_type": "code",
   "execution_count": 13,
   "metadata": {
    "collapsed": true
   },
   "outputs": [],
   "source": [
    "# define the class. The __call__ method will execute every time the object is called.\n",
    "# We will use this method for the class to act as a plain function.\n",
    "# with the exception that this \"function\" will appear to have a memory state\n",
    "class SumSeries(object):\n",
    "    \n",
    "    def __init__(self):\n",
    "#         init empty list attribute\n",
    "        self.series = []\n",
    "    \n",
    "    def __call__(self, number: int):\n",
    "        self.series.append(number)\n",
    "        return sum(self.series)"
   ]
  },
  {
   "cell_type": "code",
   "execution_count": 14,
   "metadata": {},
   "outputs": [
    {
     "name": "stdout",
     "output_type": "stream",
     "text": [
      "1\n",
      "3\n",
      "8\n"
     ]
    }
   ],
   "source": [
    "# instantiate the class\n",
    "sm = SumSeries()\n",
    "\n",
    "# use it as a function\n",
    "print(sm(1))\n",
    "print(sm(2))\n",
    "print(sm(5))"
   ]
  }
 ],
 "metadata": {
  "kernelspec": {
   "display_name": "Python 3",
   "language": "python",
   "name": "python3"
  },
  "language_info": {
   "codemirror_mode": {
    "name": "ipython",
    "version": 3
   },
   "file_extension": ".py",
   "mimetype": "text/x-python",
   "name": "python",
   "nbconvert_exporter": "python",
   "pygments_lexer": "ipython3",
   "version": "3.5.2"
  }
 },
 "nbformat": 4,
 "nbformat_minor": 2
}
