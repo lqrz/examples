{
 "cells": [
  {
   "cell_type": "code",
   "execution_count": 11,
   "metadata": {
    "collapsed": true
   },
   "outputs": [],
   "source": [
    "def python_fib(n):\n",
    "    b = 0\n",
    "    for a in range(1, n+1):\n",
    "        a, b = a+b, a\n",
    "\n",
    "    return a"
   ]
  },
  {
   "cell_type": "code",
   "execution_count": 140,
   "metadata": {},
   "outputs": [
    {
     "name": "stdout",
     "output_type": "stream",
     "text": [
      "The slowest run took 293.13 times longer than the fastest. This could mean that an intermediate result is being cached.\n",
      "10000000 loops, best of 3: 38.9 ns per loop\n"
     ]
    }
   ],
   "source": [
    "%timeit python_fib(70)"
   ]
  },
  {
   "cell_type": "code",
   "execution_count": 60,
   "metadata": {},
   "outputs": [],
   "source": [
    "%load_ext Cython"
   ]
  },
  {
   "cell_type": "code",
   "execution_count": 133,
   "metadata": {},
   "outputs": [],
   "source": [
    "%%cython\n",
    "def cython_fib(int n):\n",
    "    cdef int a=0, b=0\n",
    "    for a in xrange(1, n+1):\n",
    "        a, b = a+b, a\n",
    "\n",
    "    return a"
   ]
  },
  {
   "cell_type": "code",
   "execution_count": 141,
   "metadata": {},
   "outputs": [
    {
     "name": "stdout",
     "output_type": "stream",
     "text": [
      "The slowest run took 308.84 times longer than the fastest. This could mean that an intermediate result is being cached.\n",
      "10000000 loops, best of 3: 37 ns per loop\n"
     ]
    }
   ],
   "source": [
    "%timeit cython_fib(70)"
   ]
  },
  {
   "cell_type": "code",
   "execution_count": null,
   "metadata": {
    "collapsed": true
   },
   "outputs": [],
   "source": [
    "## EXAMPLE\n",
    "\n",
    "# import numpy as np\n",
    "# cimport numpy as np\n",
    "\n",
    "# DTYPE = np.int\n",
    "# ctypedef np.int_t DTYPE_t\n",
    "\n",
    "# def cython_sum(np.ndarray[DTYPE_t, ndim=1] y):\n",
    "#     cdef int N = y.shape[0]\n",
    "#     cdef int x = y[0]\n",
    "#     cdef int i\n",
    "#     for i in xrange(1,N):\n",
    "#         x += y[i]\n",
    "#     return x"
   ]
  }
 ],
 "metadata": {
  "kernelspec": {
   "display_name": "Python 3",
   "language": "python",
   "name": "python3"
  },
  "language_info": {
   "codemirror_mode": {
    "name": "ipython",
    "version": 3
   },
   "file_extension": ".py",
   "mimetype": "text/x-python",
   "name": "python",
   "nbconvert_exporter": "python",
   "pygments_lexer": "ipython3",
   "version": "3.5.2"
  }
 },
 "nbformat": 4,
 "nbformat_minor": 2
}
