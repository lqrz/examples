{
 "cells": [
  {
   "cell_type": "markdown",
   "metadata": {},
   "source": [
    "# Matplotlib basics\n",
    "\n",
    "Here, some info about figures, subplots, axes, xticks, etc...\n",
    "\n",
    "Ref: _\"Python for data analysis\"_, -Wes McKinney"
   ]
  },
  {
   "cell_type": "markdown",
   "metadata": {},
   "source": [
    "Usually we use the Matplotlib functions that are contained in `matplotlib.pyplot`.\n",
    "\n",
    "In iPython, we use the magic command `%matplotlib inline` (before the actual matplotlib import!)."
   ]
  },
  {
   "cell_type": "code",
   "execution_count": 34,
   "metadata": {
    "collapsed": true
   },
   "outputs": [],
   "source": [
    "%matplotlib inline\n",
    "import matplotlib.pyplot as plt\n",
    "# import seaborn as sns\n",
    "import numpy as np"
   ]
  },
  {
   "cell_type": "markdown",
   "metadata": {},
   "source": [
    "## Figures\n",
    "\n",
    "Figure objects are the main container of any plot. It is created via: `fig = plt.figure()`.\n",
    "\n",
    "Having access to the figure object is important cause it lets us configure params such as: (a) figsize; (b) aspect ratio when saving to the file system.\n",
    "\n",
    "While we can have multiple figures, we can get a reference to the active one by `plt.gcf()` (\"get current figure\").\n",
    "\n"
   ]
  },
  {
   "cell_type": "code",
   "execution_count": 35,
   "metadata": {},
   "outputs": [
    {
     "data": {
      "text/plain": [
       "<matplotlib.figure.Figure at 0x7fcfa56eb438>"
      ]
     },
     "metadata": {},
     "output_type": "display_data"
    }
   ],
   "source": [
    "fig = plt.figure(figsize=(15,15))"
   ]
  },
  {
   "cell_type": "markdown",
   "metadata": {},
   "source": [
    "## Subplots\n",
    "\n",
    "When we instantiate a figure, this is blank, and we cannot place a plot on a blank figure; we need an intermediate container which will reside on the figure: a __subplot__.\n",
    "\n",
    "### Adding subplots one at a time\n",
    "\n",
    "We can do this using `ax1 = fig.add_subplot(2,2,1)`. The previous command specifies the grid size (that is, that it can contain 2x2 subplots) and the reference to the current subplot (in this case, the number 1).\n",
    "\n",
    "The `add_subplot()` statement returns an __AxesSubplot__ object that can be used directly to plot on.\n",
    "\n",
    "With this command, I can keep adding subplots to the figure in different locations (based on the grid and reference)."
   ]
  },
  {
   "cell_type": "code",
   "execution_count": 38,
   "metadata": {},
   "outputs": [
    {
     "data": {
      "text/plain": [
       "[<matplotlib.lines.Line2D at 0x7fcfa563cc88>]"
      ]
     },
     "execution_count": 38,
     "metadata": {},
     "output_type": "execute_result"
    }
   ],
   "source": [
    "ax1 = fig.add_subplot(2, 2, 1)\n",
    "ax2 = fig.add_subplot(2, 2, 2)\n",
    "\n",
    "\n",
    "ax1.plot(np.arange(10), np.arange(10))"
   ]
  },
  {
   "cell_type": "markdown",
   "metadata": {},
   "source": [
    "When calling `plt.plot()` directly, it handles the creation of a default figure and subplot.\n",
    "\n",
    "Analogous to `plt.gcf()`, we can retrieve the active axes by `fig.gca()` (\"get current axes\").\n",
    "\n",
    "### Adding many subplots at once\n",
    "\n",
    "Instead of adding plots one by one, I can create a whole bunch and get an ndarray with all the AxesSubplot references, using: `fig, axes = plt.subplots(2, 3)` (here i am specifying the nr of plots in the grid).\n",
    "This statement lets us pass args that are shared by all subplots (like, `sharex`, `sharey`, `figsize`, and others).\n",
    "\n",
    "\n",
    "### Spacing between subplots\n",
    "\n",
    "This can be adjusted with `plt.subplots_adjust(wspace=, hspace=)`.\n",
    "\n",
    "### Setting titles\n",
    "\n",
    "We can set titles at the subplot level with `ax.set_title(\"Some title\")`.\n",
    "\n",
    "### Setting axes labels\n",
    "\n",
    "The axes names can be modified via `ax.set_xlabel(\"Some axes label\")`.\n",
    "\n",
    "### Setting xticks\n",
    "\n",
    "The xticks are the x values at which the ticks will appear. We adjust this, at the subplot level, with `ax.set_xticks([array of xtick values])`.\n",
    "\n",
    "### Setting xticklabels\n",
    "\n",
    "The xticklabels are the labels of the corresponding xticks. We adjust them with `ax.set_xticklabels([array of xtick labels])`.\n",
    "\n",
    "This method accepts different params, such as _rotation_, _fontsize_, and others.\n",
    "\n",
    "### Legends\n",
    "\n",
    "When plotting the data, we will need to specify the _legend_ param. If so, we can then call `ax.legen(loc=\"best\")` to show the legend.\n",
    "\n",
    "## Saving figures\n",
    "\n",
    "For this, we use the method `plt.savefig(fname=\"some_name_with.extension\", dpi=, facecolor=color_of_background_outside_subplots, bbox_inches=\"tight\")`. If bbox_inches=\"tight\" is passed, then it will try to remove all empty space around the figure."
   ]
  }
 ],
 "metadata": {
  "kernelspec": {
   "display_name": "Python 3",
   "language": "python",
   "name": "python3"
  },
  "language_info": {
   "codemirror_mode": {
    "name": "ipython",
    "version": 3
   },
   "file_extension": ".py",
   "mimetype": "text/x-python",
   "name": "python",
   "nbconvert_exporter": "python",
   "pygments_lexer": "ipython3",
   "version": "3.5.2"
  }
 },
 "nbformat": 4,
 "nbformat_minor": 2
}
