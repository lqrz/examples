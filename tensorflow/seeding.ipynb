{
 "cells": [
  {
   "cell_type": "markdown",
   "metadata": {},
   "source": [
    "# TensorFlow"
   ]
  },
  {
   "cell_type": "markdown",
   "metadata": {},
   "source": [
    "## Seeding\n",
    "\n",
    "There is no such thing as seeding at module/Tensorflow-level. Operations that run random statements can be seeded either at: (1) operation level; or (2) graph level.\n",
    "\n",
    "This is done by calling `tf.set_random_seed(value)`.\n",
    "\n",
    "**Note** that this must be done for each graph! And if no graph is specified, as always, it will impact the default graph. See below:"
   ]
  },
  {
   "cell_type": "markdown",
   "metadata": {},
   "source": [
    "#### The wrong way (common mistake)"
   ]
  },
  {
   "cell_type": "code",
   "execution_count": 4,
   "metadata": {
    "collapsed": true
   },
   "outputs": [],
   "source": [
    "import tensorflow as tf"
   ]
  },
  {
   "cell_type": "code",
   "execution_count": 6,
   "metadata": {
    "collapsed": false
   },
   "outputs": [
    {
     "name": "stdout",
     "output_type": "stream",
     "text": [
      "[[ 0.12582205]]\n",
      "[[-0.07275584]]\n"
     ]
    }
   ],
   "source": [
    "# instantiate a graph\n",
    "graph_1 = tf.Graph()\n",
    "\n",
    "# this way im seeding the default graph\n",
    "tf.set_random_seed(1234)\n",
    "\n",
    "with graph_1.as_default():\n",
    "#     define a random var\n",
    "    x = tf.random_normal([1,1], stddev=0.2)\n",
    "\n",
    "with tf.Session(graph=graph_1) as session:\n",
    "    session.run(tf.global_variables_initializer())\n",
    "    print(x.eval())\n",
    "\n",
    "with tf.Session(graph=graph_1) as session:\n",
    "    session.run(tf.global_variables_initializer())\n",
    "    print(x.eval())\n",
    "    \n",
    "# Result: there is no seed for graph_1"
   ]
  },
  {
   "cell_type": "markdown",
   "metadata": {},
   "source": [
    "#### The right way"
   ]
  },
  {
   "cell_type": "code",
   "execution_count": 7,
   "metadata": {
    "collapsed": false
   },
   "outputs": [
    {
     "name": "stdout",
     "output_type": "stream",
     "text": [
      "[[-0.02772504]]\n",
      "[[-0.02772504]]\n"
     ]
    }
   ],
   "source": [
    "# instantiate a graph\n",
    "graph_1 = tf.Graph()\n",
    "\n",
    "with graph_1.as_default():\n",
    "#     this way im seeding graph_1\n",
    "    tf.set_random_seed(1234)\n",
    "\n",
    "with graph_1.as_default():\n",
    "#     define a random var\n",
    "    x = tf.random_normal([1,1], stddev=0.2)\n",
    "\n",
    "with tf.Session(graph=graph_1) as session:\n",
    "    session.run(tf.global_variables_initializer())\n",
    "    print(x.eval())\n",
    "\n",
    "with tf.Session(graph=graph_1) as session:\n",
    "    session.run(tf.global_variables_initializer())\n",
    "    print(x.eval())\n",
    "    \n",
    "# Result: graph_1 is properly seeded!"
   ]
  }
 ],
 "metadata": {
  "kernelspec": {
   "display_name": "Python 3",
   "language": "python",
   "name": "python3"
  },
  "language_info": {
   "codemirror_mode": {
    "name": "ipython",
    "version": 3
   },
   "file_extension": ".py",
   "mimetype": "text/x-python",
   "name": "python",
   "nbconvert_exporter": "python",
   "pygments_lexer": "ipython3",
   "version": "3.5.2"
  }
 },
 "nbformat": 4,
 "nbformat_minor": 2
}
